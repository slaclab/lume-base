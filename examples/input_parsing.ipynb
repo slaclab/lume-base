{
 "cells": [
  {
   "cell_type": "markdown",
   "id": "4f9970a3",
   "metadata": {},
   "source": [
    "# Custom Parsing\n",
    "This notebook describes the process for implementing handling of custom input files for `lume.base.Base` subclasses. \n",
    "\n",
    "LUME-base objects can be instantiated using a single YAML file or a series of YAML files defining configuration options. The top-level file defines the base configuration options: \n",
    "- input_file\n",
    "- initial_particles\n",
    "- verbose\n",
    "- timeout"
   ]
  },
  {
   "cell_type": "code",
   "execution_count": 1,
   "id": "28cb49e3",
   "metadata": {},
   "outputs": [],
   "source": [
    "import inspect\n",
    "from lume.base import Base\n",
    "\n",
    "\n",
    "# Print code\n",
    "from IPython.display import display, Markdown\n",
    "def sdisplay(obj):\n",
    "    spec = inspect.getsource(obj)\n",
    "    display(Markdown(f\"```python \\n {spec} \\n ```\"))\n"
   ]
  },
  {
   "cell_type": "markdown",
   "id": "87a73a7d",
   "metadata": {},
   "source": [
    "The `from_yaml` class method may be used to instantiate the `Base` subclass using the top-level configuration file. The `from_yaml` method calls the abstract, static `parse_input` method, which must be implemented by the developer to handle input parsing for their implementation."
   ]
  },
  {
   "cell_type": "code",
   "execution_count": 2,
   "id": "c5519b59",
   "metadata": {},
   "outputs": [
    {
     "data": {
      "text/markdown": [
       "```python \n",
       "     @classmethod\n",
       "    def from_yaml(cls, yaml_file):\n",
       "        \"\"\"\n",
       "        Returns an object instantiated from a YAML config file\n",
       "\n",
       "        Will load intial_particles from an h5 file.\n",
       "\n",
       "        \"\"\"\n",
       "        # Try file\n",
       "        if os.path.exists(tools.full_path(yaml_file)):\n",
       "            yaml_file = tools.full_path(yaml_file)\n",
       "            config = yaml.safe_load(open(yaml_file))\n",
       "\n",
       "            if 'input_file' in config:\n",
       "\n",
       "                # Check that the input file is absolute path...\n",
       "                # require absolute/ relative to working dir for model input file\n",
       "                f = os.path.expandvars(config['input_file'])\n",
       "                if not os.path.isabs(f):\n",
       "                    # Get the yaml file root\n",
       "                    root, _ = os.path.split(tools.full_path(yaml_file))\n",
       "                    config['input_file'] = os.path.join(root, f)\n",
       "                    \n",
       "                # Here, we update the config with the input_file contents\n",
       "                # provided that the input_parser method has been implemented on the subclass\n",
       "                parsed_input = cls.input_parser(config['input_file'])\n",
       "                config.update(parsed_input)\n",
       "\n",
       "        else:\n",
       "            # Try raw string\n",
       "            config = yaml.safe_load(yaml_file)\n",
       "            if \"input_file\" in config:\n",
       "                parsed_input = cls.input_parser(config['input_file'])\n",
       "                config.update(parsed_input)\n",
       "\n",
       "        # Form ParticleGroup from file\n",
       "        if 'initial_particles' in config:\n",
       "            f = config['initial_particles']\n",
       "            if not os.path.isabs(f):\n",
       "                root, _ = os.path.split(tools.full_path(yaml_file))\n",
       "                f = os.path.join(root, f)\n",
       "            config['initial_particles'] = ParticleGroup(f)\n",
       "\n",
       "        return cls(**config)\n",
       " \n",
       " ```"
      ],
      "text/plain": [
       "<IPython.core.display.Markdown object>"
      ]
     },
     "metadata": {},
     "output_type": "display_data"
    }
   ],
   "source": [
    "sdisplay(Base.from_yaml)"
   ]
  },
  {
   "cell_type": "markdown",
   "id": "2fafdf94",
   "metadata": {},
   "source": [
    "`MyModel` implements the `parse_input` method and adds placeholders for other abstract methods:"
   ]
  },
  {
   "cell_type": "code",
   "execution_count": 3,
   "id": "3361da84",
   "metadata": {},
   "outputs": [
    {
     "data": {
      "text/markdown": [
       "```python \n",
       " class MyModel(Base):\n",
       "    def __init__(self, *args, variables=None, input_image=None, **kwargs):\n",
       "        super().__init__(*args, **kwargs)\n",
       "        self._input_image = input_image\n",
       "        self._variables = variables\n",
       "\n",
       "\n",
       "    #implementation of abstract method\n",
       "    @staticmethod\n",
       "    def input_parser(path):\n",
       "        config = {}\n",
       "\n",
       "        if os.path.exists(tools.full_path(path)):\n",
       "            yaml_file = tools.full_path(path)\n",
       "            config = yaml.safe_load(open(yaml_file))\n",
       "\n",
       "            if \"input_image\" in config:\n",
       "\n",
       "                # check if input image full path provided\n",
       "                if os.path.exists(tools.full_path(config[\"input_image\"])):\n",
       "                    input_image_path = tools.full_path(config[\"input_image\"])\n",
       "\n",
       "                # if not a full path, compose path relative to the yaml file directory\n",
       "                else:\n",
       "                    root, _ = os.path.split(tools.full_path(path))\n",
       "                    input_image_path = os.path.join(root, config[\"input_image\"])\n",
       "\n",
       "                    if not os.path.exists(tools.full_path(input_image_path)):\n",
       "                        raise Exception(\"Unable to resolve input impage path %s\", input_image_path)\n",
       "\n",
       "                config[\"input_image\"] = np.load(input_image_path)\n",
       "\n",
       "        else:\n",
       "            raise Exception(\"Unable to parse model input file path %s\", path)\n",
       "                \n",
       "        return config\n",
       "\n",
       "    def archive(self):\n",
       "        ...\n",
       "\n",
       "    def configure(self):\n",
       "        ...\n",
       "\n",
       "    def load_archive(self):\n",
       "        ...\n",
       "\n",
       "    def load_output(self):\n",
       "        ...\n",
       "\n",
       "    def plot(self):\n",
       "        ...\n",
       "\n",
       "    def run(self):\n",
       "        ...\n",
       "\n",
       "    def write_input(self):\n",
       "        ...\n",
       " \n",
       " ```"
      ],
      "text/plain": [
       "<IPython.core.display.Markdown object>"
      ]
     },
     "metadata": {},
     "output_type": "display_data"
    }
   ],
   "source": [
    "from lume.tests.files.test_command_wrapper_subclass import MyModel\n",
    "from lume.tests.files import LUME_CONFIG_YAML, INPUT_YAML \n",
    "\n",
    "sdisplay(MyModel)"
   ]
  },
  {
   "cell_type": "markdown",
   "id": "4513ab51",
   "metadata": {},
   "source": [
    "In this case, out configuration file looks like:"
   ]
  },
  {
   "cell_type": "code",
   "execution_count": 4,
   "id": "b97b7c10",
   "metadata": {},
   "outputs": [
    {
     "name": "stdout",
     "output_type": "stream",
     "text": [
      "input_file: test_input_file.yml\n",
      "timeout: 100\n",
      "verbose: true\n",
      "\n"
     ]
    }
   ],
   "source": [
    "with open(LUME_CONFIG_YAML, \"r\") as stream:\n",
    "    print(stream.read())"
   ]
  },
  {
   "cell_type": "markdown",
   "id": "a94f7d26",
   "metadata": {},
   "source": [
    "And the `input_file` looks like:"
   ]
  },
  {
   "cell_type": "code",
   "execution_count": 5,
   "id": "8b66b0cc",
   "metadata": {},
   "outputs": [
    {
     "name": "stdout",
     "output_type": "stream",
     "text": [
      "input_image: test_input_image.npy\n",
      "\n",
      "variables:\n",
      "  variable_1:\n",
      "    value: 1\n",
      "\n",
      "  variable_2:\n",
      "    value: 2\n",
      "\n"
     ]
    }
   ],
   "source": [
    "with open(INPUT_YAML, \"r\") as stream:\n",
    "    print(stream.read())"
   ]
  },
  {
   "cell_type": "markdown",
   "id": "9d12a68c",
   "metadata": {},
   "source": [
    "Instantiate model:"
   ]
  },
  {
   "cell_type": "code",
   "execution_count": 6,
   "id": "c17c700e",
   "metadata": {},
   "outputs": [
    {
     "data": {
      "text/plain": [
       "<lume.tests.files.test_command_wrapper_subclass.MyModel at 0x7fcbe04fa280>"
      ]
     },
     "execution_count": 6,
     "metadata": {},
     "output_type": "execute_result"
    }
   ],
   "source": [
    "MyModel = MyModel.from_yaml(LUME_CONFIG_YAML)\n",
    "MyModel"
   ]
  },
  {
   "cell_type": "code",
   "execution_count": 7,
   "id": "0891423e",
   "metadata": {},
   "outputs": [
    {
     "data": {
      "text/plain": [
       "array([[0., 0., 0., ..., 0., 0., 0.],\n",
       "       [0., 0., 0., ..., 0., 0., 0.],\n",
       "       [0., 0., 0., ..., 0., 0., 0.],\n",
       "       ...,\n",
       "       [0., 0., 0., ..., 0., 0., 0.],\n",
       "       [0., 0., 0., ..., 0., 0., 0.],\n",
       "       [0., 0., 0., ..., 0., 0., 0.]])"
      ]
     },
     "execution_count": 7,
     "metadata": {},
     "output_type": "execute_result"
    }
   ],
   "source": [
    "# input image\n",
    "MyModel._input_image"
   ]
  },
  {
   "cell_type": "code",
   "execution_count": 8,
   "id": "a5379c14",
   "metadata": {},
   "outputs": [
    {
     "data": {
      "text/plain": [
       "{'variable_1': {'value': 1}, 'variable_2': {'value': 2}}"
      ]
     },
     "execution_count": 8,
     "metadata": {},
     "output_type": "execute_result"
    }
   ],
   "source": [
    "# variables\n",
    "MyModel._variables"
   ]
  }
 ],
 "metadata": {
  "kernelspec": {
   "display_name": "Python 3 (ipykernel)",
   "language": "python",
   "name": "python3"
  },
  "language_info": {
   "codemirror_mode": {
    "name": "ipython",
    "version": 3
   },
   "file_extension": ".py",
   "mimetype": "text/x-python",
   "name": "python",
   "nbconvert_exporter": "python",
   "pygments_lexer": "ipython3",
   "version": "3.9.0"
  }
 },
 "nbformat": 4,
 "nbformat_minor": 5
}
